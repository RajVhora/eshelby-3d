{
 "cells": [
  {
   "cell_type": "code",
   "execution_count": 1,
   "metadata": {},
   "outputs": [],
   "source": [
    "import pandas as pd\n",
    "import matplotlib.pyplot as plt"
   ]
  },
  {
   "cell_type": "code",
   "execution_count": 2,
   "metadata": {},
   "outputs": [],
   "source": [
    "# Import data from stress.csv as analytical_stress\n",
    "analytical_stress = pd.read_csv('stress.csv')\n",
    "\n",
    "# Import data from plot3d.csv as alamo_stress\n",
    "alamo_stress = pd.read_csv('plot3d.csv')"
   ]
  },
  {
   "cell_type": "code",
   "execution_count": 3,
   "metadata": {},
   "outputs": [
    {
     "data": {
      "text/html": [
       "<div>\n",
       "<style scoped>\n",
       "    .dataframe tbody tr th:only-of-type {\n",
       "        vertical-align: middle;\n",
       "    }\n",
       "\n",
       "    .dataframe tbody tr th {\n",
       "        vertical-align: top;\n",
       "    }\n",
       "\n",
       "    .dataframe thead th {\n",
       "        text-align: right;\n",
       "    }\n",
       "</style>\n",
       "<table border=\"1\" class=\"dataframe\">\n",
       "  <thead>\n",
       "    <tr style=\"text-align: right;\">\n",
       "      <th></th>\n",
       "      <th>Unnamed: 0</th>\n",
       "      <th>x</th>\n",
       "      <th>sigma_xx</th>\n",
       "      <th>sigma_yy</th>\n",
       "      <th>sigma_zz</th>\n",
       "    </tr>\n",
       "  </thead>\n",
       "  <tbody>\n",
       "    <tr>\n",
       "      <th>0</th>\n",
       "      <td>0</td>\n",
       "      <td>0.100000</td>\n",
       "      <td>-0.25311</td>\n",
       "      <td>-0.219854</td>\n",
       "      <td>-0.127036</td>\n",
       "    </tr>\n",
       "    <tr>\n",
       "      <th>1</th>\n",
       "      <td>1</td>\n",
       "      <td>0.180612</td>\n",
       "      <td>-0.25311</td>\n",
       "      <td>-0.219854</td>\n",
       "      <td>-0.127036</td>\n",
       "    </tr>\n",
       "    <tr>\n",
       "      <th>2</th>\n",
       "      <td>2</td>\n",
       "      <td>0.261224</td>\n",
       "      <td>-0.25311</td>\n",
       "      <td>-0.219854</td>\n",
       "      <td>-0.127036</td>\n",
       "    </tr>\n",
       "    <tr>\n",
       "      <th>3</th>\n",
       "      <td>3</td>\n",
       "      <td>0.341837</td>\n",
       "      <td>-0.25311</td>\n",
       "      <td>-0.219854</td>\n",
       "      <td>-0.127036</td>\n",
       "    </tr>\n",
       "    <tr>\n",
       "      <th>4</th>\n",
       "      <td>4</td>\n",
       "      <td>0.422449</td>\n",
       "      <td>-0.25311</td>\n",
       "      <td>-0.219854</td>\n",
       "      <td>-0.127036</td>\n",
       "    </tr>\n",
       "  </tbody>\n",
       "</table>\n",
       "</div>"
      ],
      "text/plain": [
       "   Unnamed: 0         x  sigma_xx  sigma_yy  sigma_zz\n",
       "0           0  0.100000  -0.25311 -0.219854 -0.127036\n",
       "1           1  0.180612  -0.25311 -0.219854 -0.127036\n",
       "2           2  0.261224  -0.25311 -0.219854 -0.127036\n",
       "3           3  0.341837  -0.25311 -0.219854 -0.127036\n",
       "4           4  0.422449  -0.25311 -0.219854 -0.127036"
      ]
     },
     "execution_count": 3,
     "metadata": {},
     "output_type": "execute_result"
    }
   ],
   "source": [
    "analytical_stress.head()"
   ]
  },
  {
   "cell_type": "code",
   "execution_count": 4,
   "metadata": {},
   "outputs": [
    {
     "data": {
      "text/html": [
       "<div>\n",
       "<style scoped>\n",
       "    .dataframe tbody tr th:only-of-type {\n",
       "        vertical-align: middle;\n",
       "    }\n",
       "\n",
       "    .dataframe tbody tr th {\n",
       "        vertical-align: top;\n",
       "    }\n",
       "\n",
       "    .dataframe thead th {\n",
       "        text-align: right;\n",
       "    }\n",
       "</style>\n",
       "<table border=\"1\" class=\"dataframe\">\n",
       "  <thead>\n",
       "    <tr style=\"text-align: right;\">\n",
       "      <th></th>\n",
       "      <th>Unnamed: 0</th>\n",
       "      <th>x</th>\n",
       "      <th>y</th>\n",
       "      <th>z</th>\n",
       "      <th>disp_x</th>\n",
       "      <th>disp_y</th>\n",
       "      <th>disp_z</th>\n",
       "      <th>stress_xx</th>\n",
       "      <th>stress_yy</th>\n",
       "      <th>stress_zz</th>\n",
       "    </tr>\n",
       "  </thead>\n",
       "  <tbody>\n",
       "    <tr>\n",
       "      <th>0</th>\n",
       "      <td>0</td>\n",
       "      <td>4.25</td>\n",
       "      <td>0.25</td>\n",
       "      <td>0.25</td>\n",
       "      <td>0.000024</td>\n",
       "      <td>1.646487e-06</td>\n",
       "      <td>1.665445e-06</td>\n",
       "      <td>-0.002639</td>\n",
       "      <td>0.000709</td>\n",
       "      <td>0.000737</td>\n",
       "    </tr>\n",
       "    <tr>\n",
       "      <th>1</th>\n",
       "      <td>1</td>\n",
       "      <td>4.75</td>\n",
       "      <td>0.25</td>\n",
       "      <td>0.25</td>\n",
       "      <td>0.000018</td>\n",
       "      <td>1.143263e-06</td>\n",
       "      <td>1.149437e-06</td>\n",
       "      <td>-0.001954</td>\n",
       "      <td>0.000446</td>\n",
       "      <td>0.000462</td>\n",
       "    </tr>\n",
       "    <tr>\n",
       "      <th>2</th>\n",
       "      <td>2</td>\n",
       "      <td>5.25</td>\n",
       "      <td>0.25</td>\n",
       "      <td>0.25</td>\n",
       "      <td>0.000013</td>\n",
       "      <td>8.150782e-07</td>\n",
       "      <td>8.162686e-07</td>\n",
       "      <td>-0.001544</td>\n",
       "      <td>0.000257</td>\n",
       "      <td>0.000267</td>\n",
       "    </tr>\n",
       "    <tr>\n",
       "      <th>3</th>\n",
       "      <td>3</td>\n",
       "      <td>5.75</td>\n",
       "      <td>0.25</td>\n",
       "      <td>0.25</td>\n",
       "      <td>0.000010</td>\n",
       "      <td>5.891195e-07</td>\n",
       "      <td>5.886393e-07</td>\n",
       "      <td>-0.001276</td>\n",
       "      <td>0.000120</td>\n",
       "      <td>0.000127</td>\n",
       "    </tr>\n",
       "    <tr>\n",
       "      <th>4</th>\n",
       "      <td>4</td>\n",
       "      <td>6.25</td>\n",
       "      <td>0.25</td>\n",
       "      <td>0.25</td>\n",
       "      <td>0.000007</td>\n",
       "      <td>4.233917e-07</td>\n",
       "      <td>4.226511e-07</td>\n",
       "      <td>-0.001094</td>\n",
       "      <td>0.000014</td>\n",
       "      <td>0.000018</td>\n",
       "    </tr>\n",
       "  </tbody>\n",
       "</table>\n",
       "</div>"
      ],
      "text/plain": [
       "   Unnamed: 0     x     y     z    disp_x        disp_y        disp_z  \\\n",
       "0           0  4.25  0.25  0.25  0.000024  1.646487e-06  1.665445e-06   \n",
       "1           1  4.75  0.25  0.25  0.000018  1.143263e-06  1.149437e-06   \n",
       "2           2  5.25  0.25  0.25  0.000013  8.150782e-07  8.162686e-07   \n",
       "3           3  5.75  0.25  0.25  0.000010  5.891195e-07  5.886393e-07   \n",
       "4           4  6.25  0.25  0.25  0.000007  4.233917e-07  4.226511e-07   \n",
       "\n",
       "   stress_xx  stress_yy  stress_zz  \n",
       "0  -0.002639   0.000709   0.000737  \n",
       "1  -0.001954   0.000446   0.000462  \n",
       "2  -0.001544   0.000257   0.000267  \n",
       "3  -0.001276   0.000120   0.000127  \n",
       "4  -0.001094   0.000014   0.000018  "
      ]
     },
     "execution_count": 4,
     "metadata": {},
     "output_type": "execute_result"
    }
   ],
   "source": [
    "alamo_stress.head()"
   ]
  },
  {
   "cell_type": "code",
   "execution_count": 7,
   "metadata": {},
   "outputs": [
    {
     "data": {
      "text/html": [
       "<div>\n",
       "<style scoped>\n",
       "    .dataframe tbody tr th:only-of-type {\n",
       "        vertical-align: middle;\n",
       "    }\n",
       "\n",
       "    .dataframe tbody tr th {\n",
       "        vertical-align: top;\n",
       "    }\n",
       "\n",
       "    .dataframe thead th {\n",
       "        text-align: right;\n",
       "    }\n",
       "</style>\n",
       "<table border=\"1\" class=\"dataframe\">\n",
       "  <thead>\n",
       "    <tr style=\"text-align: right;\">\n",
       "      <th></th>\n",
       "      <th>Unnamed: 0</th>\n",
       "      <th>x</th>\n",
       "      <th>y</th>\n",
       "      <th>z</th>\n",
       "      <th>disp_x</th>\n",
       "      <th>disp_y</th>\n",
       "      <th>disp_z</th>\n",
       "      <th>stress_xx</th>\n",
       "      <th>stress_yy</th>\n",
       "      <th>stress_zz</th>\n",
       "    </tr>\n",
       "  </thead>\n",
       "  <tbody>\n",
       "    <tr>\n",
       "      <th>40</th>\n",
       "      <td>40</td>\n",
       "      <td>0.015625</td>\n",
       "      <td>0.015625</td>\n",
       "      <td>0.015625</td>\n",
       "      <td>0.000005</td>\n",
       "      <td>0.000009</td>\n",
       "      <td>0.000018</td>\n",
       "      <td>-0.253634</td>\n",
       "      <td>-0.220491</td>\n",
       "      <td>-0.128042</td>\n",
       "    </tr>\n",
       "    <tr>\n",
       "      <th>41</th>\n",
       "      <td>41</td>\n",
       "      <td>0.046875</td>\n",
       "      <td>0.015625</td>\n",
       "      <td>0.015625</td>\n",
       "      <td>0.000014</td>\n",
       "      <td>0.000009</td>\n",
       "      <td>0.000018</td>\n",
       "      <td>-0.253633</td>\n",
       "      <td>-0.220491</td>\n",
       "      <td>-0.128041</td>\n",
       "    </tr>\n",
       "    <tr>\n",
       "      <th>42</th>\n",
       "      <td>42</td>\n",
       "      <td>0.078125</td>\n",
       "      <td>0.015625</td>\n",
       "      <td>0.015625</td>\n",
       "      <td>0.000023</td>\n",
       "      <td>0.000009</td>\n",
       "      <td>0.000018</td>\n",
       "      <td>-0.253632</td>\n",
       "      <td>-0.220490</td>\n",
       "      <td>-0.128040</td>\n",
       "    </tr>\n",
       "    <tr>\n",
       "      <th>43</th>\n",
       "      <td>43</td>\n",
       "      <td>0.109375</td>\n",
       "      <td>0.015625</td>\n",
       "      <td>0.015625</td>\n",
       "      <td>0.000032</td>\n",
       "      <td>0.000009</td>\n",
       "      <td>0.000018</td>\n",
       "      <td>-0.253631</td>\n",
       "      <td>-0.220489</td>\n",
       "      <td>-0.128039</td>\n",
       "    </tr>\n",
       "    <tr>\n",
       "      <th>44</th>\n",
       "      <td>44</td>\n",
       "      <td>0.140625</td>\n",
       "      <td>0.015625</td>\n",
       "      <td>0.015625</td>\n",
       "      <td>0.000041</td>\n",
       "      <td>0.000009</td>\n",
       "      <td>0.000018</td>\n",
       "      <td>-0.253631</td>\n",
       "      <td>-0.220488</td>\n",
       "      <td>-0.128037</td>\n",
       "    </tr>\n",
       "  </tbody>\n",
       "</table>\n",
       "</div>"
      ],
      "text/plain": [
       "    Unnamed: 0         x         y         z    disp_x    disp_y    disp_z  \\\n",
       "40          40  0.015625  0.015625  0.015625  0.000005  0.000009  0.000018   \n",
       "41          41  0.046875  0.015625  0.015625  0.000014  0.000009  0.000018   \n",
       "42          42  0.078125  0.015625  0.015625  0.000023  0.000009  0.000018   \n",
       "43          43  0.109375  0.015625  0.015625  0.000032  0.000009  0.000018   \n",
       "44          44  0.140625  0.015625  0.015625  0.000041  0.000009  0.000018   \n",
       "\n",
       "    stress_xx  stress_yy  stress_zz  \n",
       "40  -0.253634  -0.220491  -0.128042  \n",
       "41  -0.253633  -0.220491  -0.128041  \n",
       "42  -0.253632  -0.220490  -0.128040  \n",
       "43  -0.253631  -0.220489  -0.128039  \n",
       "44  -0.253631  -0.220488  -0.128037  "
      ]
     },
     "execution_count": 7,
     "metadata": {},
     "output_type": "execute_result"
    }
   ],
   "source": [
    "# Sort alamo_stress by x\n",
    "alamo_stress = alamo_stress.sort_values(by='x')\n",
    "alamo_stress.head()"
   ]
  },
  {
   "cell_type": "code",
   "execution_count": 13,
   "metadata": {},
   "outputs": [
    {
     "data": {
      "image/png": "[encoded data removed]",
      "text/plain": [
       "<Figure size 640x480 with 1 Axes>"
      ]
     },
     "metadata": {},
     "output_type": "display_data"
    }
   ],
   "source": [
    "# Plot analytical_stress and alamo_stress vs x\n",
    "plt.plot(analytical_stress['x'], analytical_stress['sigma_xx'], label='analytical_xx')\n",
    "plt.plot(alamo_stress['x'], alamo_stress['stress_xx'], label='alamo_xx', linestyle='None',marker='o',color='red',markersize=3)\n",
    "\n",
    "plt.legend()\n",
    "plt.show()\n"
   ]
  },
  {
   "cell_type": "code",
   "execution_count": 14,
   "metadata": {},
   "outputs": [
    {
     "data": {
      "image/png": "[encoded data removed]",
      "text/plain": [
       "<Figure size 640x480 with 1 Axes>"
      ]
     },
     "metadata": {},
     "output_type": "display_data"
    }
   ],
   "source": [
    "plt.plot(analytical_stress['x'], analytical_stress['sigma_yy'], label='analytical_yy')\n",
    "plt.plot(alamo_stress['x'], alamo_stress['stress_yy'], label='alamo_yy', linestyle='None',marker='o',color='green',markersize=3)\n",
    "\n",
    "plt.legend()\n",
    "plt.show()"
   ]
  },
  {
   "cell_type": "code",
   "execution_count": 15,
   "metadata": {},
   "outputs": [
    {
     "data": {
      "image/png": "[encoded data removed]",
      "text/plain": [
       "<Figure size 640x480 with 1 Axes>"
      ]
     },
     "metadata": {},
     "output_type": "display_data"
    }
   ],
   "source": [
    "plt.plot(analytical_stress['x'], analytical_stress['sigma_zz'], label='analytical_zz')\n",
    "plt.plot(alamo_stress['x'], alamo_stress['stress_zz'], label='alamo_zz', linestyle='None',marker='o',color='orange',markersize=3)\n",
    "\n",
    "plt.legend()\n",
    "plt.show()"
   ]
  },
  {
   "cell_type": "code",
   "execution_count": null,
   "metadata": {},
   "outputs": [],
   "source": []
  }
 ],
 "metadata": {
  "kernelspec": {
   "display_name": "Python 3",
   "language": "python",
   "name": "python3"
  },
  "language_info": {
   "codemirror_mode": {
    "name": "ipython",
    "version": 3
   },
   "file_extension": ".py",
   "mimetype": "text/x-python",
   "name": "python",
   "nbconvert_exporter": "python",
   "pygments_lexer": "ipython3",
   "version": "3.10.6"
  },
  "orig_nbformat": 4
 },
 "nbformat": 4,
 "nbformat_minor": 2
}
