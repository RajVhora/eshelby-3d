{
 "cells": [
  {
   "cell_type": "code",
   "execution_count": 1,
   "metadata": {},
   "outputs": [],
   "source": [
    "# Import important libraries\n",
    "\n",
    "import numpy as np\n",
    "import sympy as sp\n",
    "import scipy.integrate as integrate"
   ]
  },
  {
   "cell_type": "code",
   "execution_count": 2,
   "metadata": {},
   "outputs": [],
   "source": [
    "a1 = 1.5\n",
    "a2 = 1\n",
    "a3 = 0.5\n",
    "a = np.array([a1, a2, a3])\n",
    "\n",
    "eps11 = 0.001\n",
    "eps22 = 0.001\n",
    "eps33 = 0.001\n",
    "eps12 = 0\n",
    "eps13 = 0\n",
    "eps23 = 0\n",
    "app_strain = np.array([[eps11,eps12,eps13],[eps12,eps22,eps23],[eps13,eps23,eps33]])\n",
    "\n",
    "nu = 0.3\n",
    "E = 210\n",
    "\n",
    "delta = np.identity(3)"
   ]
  },
  {
   "cell_type": "code",
   "execution_count": 3,
   "metadata": {},
   "outputs": [],
   "source": [
    "# Solving the cubis equation of lambda (page 86 of Mura's book, equation 11.37)\n",
    "def get_lambda(x,a):\n",
    "    sym = sp.Symbol('lambda_')\n",
    "    equation = (x[0]**2)/(a[0]**2 + sym) + (x[1]**2)/(a[1]**2 + sym) + (x[2]**2)/(a[2]**2 + sym) - 1\n",
    "    sol =  sp.solve(equation, sym)\n",
    "    #print(\"Solution of Lambda: \",sol)\n",
    "\n",
    "    # Convert sol to complex number\n",
    "    sol = [complex(i) for i in sol]\n",
    "    #print(sol)\n",
    "\n",
    "    # Select the real part of the solution\n",
    "    sol = [i.real for i in sol]\n",
    "    #print(sol)\n",
    "    \n",
    "    sol = max(sol)\n",
    "    if sol > 0:\n",
    "        lambda_ = sol\n",
    "    else:\n",
    "        lambda_ = 0\n",
    "    return lambda_\n",
    "    #print(\"lambda = \",lambda_)"
   ]
  },
  {
   "cell_type": "code",
   "execution_count": 4,
   "metadata": {},
   "outputs": [],
   "source": [
    "# Defining elliptic integrals and solving them. (page 85 of Mura's book, equation 11.36) lambda=0.. verified for lambda = 0\n",
    "def I_(x,a, lambda_):\n",
    "    #lambda_ = get_lambda(x,a)\n",
    "    def integrand(s):\n",
    "        return 1/np.sqrt((a[0]**2 + s)*(a[1]**2 + s)*(a[2]**2 + s))\n",
    "    inte = integrate.quad(integrand, lambda_, np.inf)[0]\n",
    "    return inte*np.pi*2*a[0]*a[1]*a[2]\n",
    "\n",
    "def Ii_(x,a, lambda_):\n",
    "    #lambda_ = get_lambda(x,a)\n",
    "    arr = np.zeros(3)\n",
    "    for i in range(3):\n",
    "        def integrand(s):\n",
    "            return (1/(np.sqrt((a[0]**2 + s)*(a[1]**2 + s)*(a[2]**2 + s))*(a[i]**2 + s)))\n",
    "        inte = integrate.quad(integrand, lambda_, np.inf)[0]\n",
    "        arr[i] = inte*np.pi*2*a[0]*a[1]*a[2]\n",
    "    return arr\n",
    "\n",
    "def Iij_(x,a, lambda_):\n",
    "    #lambda_ = get_lambda(x,a)\n",
    "    #print(\"lambda = \",lamb)\n",
    "    arr = np.zeros((3,3))\n",
    "    for i in range(3):\n",
    "        for j in range(3):\n",
    "            def integrand(s):\n",
    "                return (1/(np.sqrt((a[0]**2 + s)*(a[1]**2 + s)*(a[2]**2 + s))*(a[i]**2 + s)*(a[j]**2 + s)))\n",
    "            inte = integrate.quad(integrand, lambda_, np.inf)[0]\n",
    "            arr[i,j] = inte*np.pi*2*a[0]*a[1]*a[2]\n",
    "    return arr"
   ]
  },
  {
   "cell_type": "code",
   "execution_count": 5,
   "metadata": {},
   "outputs": [],
   "source": [
    "# Compute Sijkl (page 88 of Mura's book, equation 11.42)\n",
    "\n",
    "def get_Sijkl(x,a,I,Ii,Iij):\n",
    "    Sijkl = np.zeros((3,3,3,3))\n",
    "    for i in range(3):\n",
    "        for j in range(3):\n",
    "            for k in range(3):\n",
    "                for l in range(3):\n",
    "                    t1 = delta[i,j]*delta[k,l]*(2*nu*Ii[i] - Ii[k] + (a[i]**2)*Iij[k,i])\n",
    "                    t2 = (delta[i,k]*delta[j,l] + delta[i,l]*delta[j,k])*((a[i]**2)*Iij[i,j] - Ii[j] + (1-nu)*(Ii[k] + Ii[l]))\n",
    "                    Sijkl[i,j,k,l] = (t1+t2)/(8*np.pi*(1-nu))\n",
    "                    #print(\"S\",i+1,j+1,k+1,l+1,\" = \",Sijkl[i,j,k,l])\n",
    "    return Sijkl"
   ]
  },
  {
   "cell_type": "code",
   "execution_count": 6,
   "metadata": {},
   "outputs": [],
   "source": [
    "# Compute derivatives of elliptic integrals (page 86 of Mura's book, equation 11.39)\n",
    "# Compute derivative of lambda wrt to 3 directions\n",
    "def lamb_der(x,a,lambda_):\n",
    "    arr = []\n",
    "    #Check if x in inside\n",
    "    if (x[0]**2/(a[0]**2)) + (x[1]**2/(a[1]**2)) + (x[2]**2/(a[2]**2)) <= 1:\n",
    "        return [0,0,0]\n",
    "    denom = (x[0]**2/(a[0]**2 + lambda_)) + (x[1]**2/(a[1]**2 + lambda_)) + (x[2]**2/(a[2]**2 + lambda_))\n",
    "    for i in range(3):\n",
    "        num = (2*x[i])/(a[i]**2 + lambda_)\n",
    "        arr.append(num/denom)\n",
    "    return arr\n",
    "\n",
    "# Compute double derivative matrix of lambda\n",
    "def lamb_der2(x,a,lambda_,lambda_der):\n",
    "    arr = np.zeros((3,3))\n",
    "    #Check if x in inside\n",
    "    if (x[0]**2/(a[0]**2)) + (x[1]**2/(a[1]**2)) + (x[2]**2/(a[2]**2)) <= 1:\n",
    "        return arr\n",
    "    denom = (x[0]**2/(a[0]**2 + lambda_)) + (x[1]**2/(a[1]**2 + lambda_)) + (x[2]**2/(a[2]**2 + lambda_))\n",
    "    for i in range(3):\n",
    "        for j in range(3):\n",
    "            num = 2*denom*lambda_der[i]*lambda_der[j] - 2*(x[i])*lambda_der[j]/(a[i]**2 + lambda_) - 2*(x[j])*lambda_der[i]/(a[j]**2 + lambda_)\n",
    "            arr[i,j] = num/denom\n",
    "    return arr\n",
    "\n",
    "#Compute derivative of Ii wrt to j direction\n",
    "def Ii_j_(x,a,lambda_,lambda_der):\n",
    "    arr = np.zeros((3,3))\n",
    "    c = -2*np.pi*a[0]*a[1]*a[2]\n",
    "    del_l = ((a[0]**2 + lambda_)*(a[1]**2 + lambda_)*(a[2]**2 + lambda_))**(1/2)\n",
    "    for i in range(3):\n",
    "        for j in range(3):\n",
    "            arr[i,j] = c*lambda_der[j]/((a[i]**2 + lambda_)*del_l)\n",
    "    return arr\n",
    "\n",
    "# Compute derivative of Iij wrt to k direction\n",
    "def Iij_k_(x,a,lambda_,lambda_der):\n",
    "    arr = np.zeros((3,3,3))\n",
    "    c = -2*np.pi*a[0]*a[1]*a[2]\n",
    "    del_l = ((a[0]**2 + lambda_)*(a[1]**2 + lambda_)*(a[2]**2 + lambda_))**(1/2)\n",
    "    for i in range(3):\n",
    "        for j in range(3):\n",
    "            for k in range(3):\n",
    "                arr[i,j,k] = c*lambda_der[k]/((a[i]**2 + lambda_)*(a[j]**2 + lambda_)*del_l)\n",
    "    return arr\n",
    "\n",
    "# Compute double partial derivative of Iij wrt to k and l direction\n",
    "def Iij_kl_(x,a,lambda_,lambda_der,lambda_der2):\n",
    "    arr = np.zeros((3,3,3,3))\n",
    "    c = -2*np.pi*a[0]*a[1]*a[2]\n",
    "    del_l = ((a[0]**2 + lambda_)*(a[1]**2 + lambda_)*(a[2]**2 + lambda_))**(1/2)\n",
    "    for i in range(3):\n",
    "        for j in range(3):\n",
    "            for k in range(3):\n",
    "                for l in range(3):\n",
    "                    arr[i,j,k,l] = (c/((a[i]**2 + lambda_)*(a[j]**2 + lambda_)*(del_l)))*(lambda_der2[k,l] - lambda_der[k]*lambda_der[l]*(1/(a[i]**2 + lambda_) + 1/(a[j]**2 + lambda_) + 0.5*(1/(a[0]**2 + lambda_) + 1/(a[1]**2 + lambda_) + 1/(a[2]**2 + lambda_))))\n",
    "    return arr\n",
    "\n",
    "# Compute derivative of Ii wrt to j and k direction\n",
    "def Ii_jk_(x,a,lambda_,lambda_der,lambda_der2):\n",
    "    arr = np.zeros((3,3,3))\n",
    "    c = -2*np.pi*a[0]*a[1]*a[2]\n",
    "    del_l = ((a[0]**2 + lambda_)*(a[1]**2 + lambda_)*(a[2]**2 + lambda_))**(1/2)\n",
    "    for i in range(3):\n",
    "        for j in range(3):\n",
    "            for k in range(3):\n",
    "                arr[i,j,k] = (c/((a[i]**2 + lambda_)*(del_l)))*(lambda_der2[j,k] - lambda_der[j]*lambda_der[k]*(1/(a[i]**2 + lambda_) + 0.5*(1/(a[0]**2 + lambda_) + 1/(a[1]**2 + lambda_) + 1/(a[2]**2 + lambda_))))\n",
    "    return arr"
   ]
  },
  {
   "cell_type": "code",
   "execution_count": 7,
   "metadata": {},
   "outputs": [],
   "source": [
    "# Compute Dijkl (page 87 of Mura's book, equation 11.41)\n",
    "def get_Dijkl(x,a,S,Ii_j, Iij_k, Iij_kl, Ii_jk):\n",
    "    Dijkl = np.zeros((3,3,3,3))\n",
    "    for i in range(3):\n",
    "        for j in range(3):\n",
    "            for k in range(3):\n",
    "                for l in range(3):\n",
    "                    t1 = 8*np.pi*(1-nu)*S[i,j,k,l] + 2*nu*delta[k,l]*x[i]*Ii_j[i,j]\n",
    "                    t2 = (1+nu)*(delta[i,l]*x[k]*Ii_j[k,j] + delta[j,l]*x[k]*Ii_j[k,i] + delta[i,k]*x[l]*Ii_j[l,j] + delta[j,k]*x[l]*Ii_j[l,i])\n",
    "                    t3 = -delta[i,j]*x[k]*(Ii_j[k,l] + a[i]**2*Iij_k[k,l,l]) - (delta[i,k]*x[j] + delta[j,k]*x[i])*(Ii_j[j,l] - a[i]**2*Iij_k[i,j,l])\n",
    "                    t4 = -(delta[i,l]*x[j] + delta[j,l]*x[i])*(Ii_j[j,k] - a[i]**2*Iij_k[i,j,k]) - x[i]*x[j]*(Ii_jk[j,l,k] - a[i]**2*Iij_kl[i,j,l,k])\n",
    "                    Dijkl[i,j,k,l] = (t1+t2+t3+t4)/(8*np.pi*(1-nu))\n",
    "                    #print(\"D\",i+1,j+1,k+1,l+1,\" = \",Dijkl[i,j,k,l])\n",
    "    return Dijkl"
   ]
  },
  {
   "cell_type": "code",
   "execution_count": 8,
   "metadata": {},
   "outputs": [],
   "source": [
    "# Calculate epsilon tensor (page 85 of Mura's book, equation 11.33)\n",
    "def get_epsilon(D,app_strain):\n",
    "    epsilon = np.zeros((3,3))\n",
    "    for i in range(3):\n",
    "        for j in range(3):\n",
    "            for k in range(3):\n",
    "                for l in range(3):\n",
    "                    epsilon[i,j] = epsilon[i,j] + D[i,j,k,l]*app_strain[k,l]\n",
    "    return epsilon"
   ]
  },
  {
   "cell_type": "code",
   "execution_count": 9,
   "metadata": {},
   "outputs": [],
   "source": [
    "# Calculate stress tensor for 3D\n",
    "def get_stress(epsilon,E,nu,app_strain,inside):\n",
    "    if inside == True:\n",
    "        epsilon = epsilon - app_strain\n",
    "    sig11 = (E/((1+nu)*(1-2*nu)))*((1-nu)*epsilon[0,0] + nu*epsilon[1,1] + nu*epsilon[2,2])\n",
    "    sig22 = (E/((1+nu)*(1-2*nu)))*(nu*epsilon[0,0] + (1-nu)*epsilon[1,1] + nu*epsilon[2,2])\n",
    "    sig33 = (E/((1+nu)*(1-2*nu)))*(nu*epsilon[0,0] + nu*epsilon[1,1] + (1-nu)*epsilon[2,2])\n",
    "    sig12 = (E/(1+nu))*epsilon[0,1]\n",
    "    sig13 = (E/(1+nu))*epsilon[0,2]\n",
    "    sig23 = (E/(1+nu))*epsilon[1,2]\n",
    "    return np.array([[sig11,sig12,sig13],[sig12,sig22,sig23],[sig13,sig23,sig33]])"
   ]
  },
  {
   "cell_type": "code",
   "execution_count": 10,
   "metadata": {},
   "outputs": [
    {
     "name": "stdout",
     "output_type": "stream",
     "text": [
      "lambda =  0\n",
      "I's are done \n",
      "Sijkl is done \n",
      "lambda derivatives are done \n",
      "Ii_j, Iij_k, Iij_kl, Ii_jk are done \n",
      "Dijkl is done \n",
      "stress =  [[-0.25310979  0.          0.        ]\n",
      " [ 0.         -0.21985379  0.        ]\n",
      " [ 0.          0.         -0.12703642]]\n"
     ]
    }
   ],
   "source": [
    "x = np.array([1,0,0])\n",
    "\n",
    "inside = False\n",
    "# Check if x is inside ellipsoid\n",
    "if ((x[0]/a[0])**2 + (x[1]/a[1])**2 + (x[2]/a[2])**2) <= 1:\n",
    "    inside = True\n",
    "\n",
    "lambda_ = get_lambda(x,a)\n",
    "print(\"lambda = \",lambda_)\n",
    "\n",
    "I = I_(x,a,lambda_)\n",
    "Ii = Ii_(x,a,lambda_)\n",
    "Iij = Iij_(x,a,lambda_)\n",
    "print(\"I's are done \")\n",
    "\n",
    "S = get_Sijkl(x,a,I,Ii,Iij)\n",
    "print(\"Sijkl is done \")\n",
    "\n",
    "lambda_der = lamb_der(x,a,lambda_)\n",
    "lambda_der2 = lamb_der2(x,a,lambda_,lambda_der)\n",
    "print(\"lambda derivatives are done \")\n",
    "\n",
    "Ii_j = Ii_j_(x,a,lambda_,lambda_der)\n",
    "Iij_k = Iij_k_(x,a,lambda_,lambda_der)\n",
    "Iij_kl = Iij_kl_(x,a,lambda_,lambda_der,lambda_der2)\n",
    "Ii_jk = Ii_jk_(x,a,lambda_,lambda_der,lambda_der2)\n",
    "print(\"Ii_j, Iij_k, Iij_kl, Ii_jk are done \")\n",
    "\n",
    "Dijkl = get_Dijkl(x,a,S,Ii_j, Iij_k, Iij_kl, Ii_jk)\n",
    "print(\"Dijkl is done \")\n",
    "\n",
    "epsilon = get_epsilon(Dijkl,app_strain)\n",
    "stress = get_stress(epsilon,E,nu,app_strain,inside)\n",
    "print(\"stress = \",stress)"
   ]
  },
  {
   "cell_type": "code",
   "execution_count": 14,
   "metadata": {},
   "outputs": [
    {
     "name": "stdout",
     "output_type": "stream",
     "text": [
      "0.1\n",
      "0.18061224489795918\n",
      "0.2612244897959184\n",
      "0.34183673469387754\n",
      "0.4224489795918368\n"
     ]
    },
    {
     "name": "stderr",
     "output_type": "stream",
     "text": [
      "/tmp/ipykernel_22114/3130618073.py:52: FutureWarning: The frame.append method is deprecated and will be removed from pandas in a future version. Use pandas.concat instead.\n",
      "  df = df.append({'x':num,'sigma_xx':stress[0,0],'sigma_yy':stress[1,1],'sigma_zz':stress[2,2]},ignore_index=True)\n",
      "/tmp/ipykernel_22114/3130618073.py:52: FutureWarning: The frame.append method is deprecated and will be removed from pandas in a future version. Use pandas.concat instead.\n",
      "  df = df.append({'x':num,'sigma_xx':stress[0,0],'sigma_yy':stress[1,1],'sigma_zz':stress[2,2]},ignore_index=True)\n",
      "/tmp/ipykernel_22114/3130618073.py:52: FutureWarning: The frame.append method is deprecated and will be removed from pandas in a future version. Use pandas.concat instead.\n",
      "  df = df.append({'x':num,'sigma_xx':stress[0,0],'sigma_yy':stress[1,1],'sigma_zz':stress[2,2]},ignore_index=True)\n",
      "/tmp/ipykernel_22114/3130618073.py:52: FutureWarning: The frame.append method is deprecated and will be removed from pandas in a future version. Use pandas.concat instead.\n",
      "  df = df.append({'x':num,'sigma_xx':stress[0,0],'sigma_yy':stress[1,1],'sigma_zz':stress[2,2]},ignore_index=True)\n",
      "/tmp/ipykernel_22114/3130618073.py:52: FutureWarning: The frame.append method is deprecated and will be removed from pandas in a future version. Use pandas.concat instead.\n",
      "  df = df.append({'x':num,'sigma_xx':stress[0,0],'sigma_yy':stress[1,1],'sigma_zz':stress[2,2]},ignore_index=True)\n"
     ]
    },
    {
     "name": "stdout",
     "output_type": "stream",
     "text": [
      "0.503061224489796\n",
      "0.5836734693877551\n",
      "0.6642857142857144\n",
      "0.7448979591836735\n",
      "0.8255102040816327\n",
      "0.9061224489795919\n"
     ]
    },
    {
     "name": "stderr",
     "output_type": "stream",
     "text": [
      "/tmp/ipykernel_22114/3130618073.py:52: FutureWarning: The frame.append method is deprecated and will be removed from pandas in a future version. Use pandas.concat instead.\n",
      "  df = df.append({'x':num,'sigma_xx':stress[0,0],'sigma_yy':stress[1,1],'sigma_zz':stress[2,2]},ignore_index=True)\n",
      "/tmp/ipykernel_22114/3130618073.py:52: FutureWarning: The frame.append method is deprecated and will be removed from pandas in a future version. Use pandas.concat instead.\n",
      "  df = df.append({'x':num,'sigma_xx':stress[0,0],'sigma_yy':stress[1,1],'sigma_zz':stress[2,2]},ignore_index=True)\n",
      "/tmp/ipykernel_22114/3130618073.py:52: FutureWarning: The frame.append method is deprecated and will be removed from pandas in a future version. Use pandas.concat instead.\n",
      "  df = df.append({'x':num,'sigma_xx':stress[0,0],'sigma_yy':stress[1,1],'sigma_zz':stress[2,2]},ignore_index=True)\n",
      "/tmp/ipykernel_22114/3130618073.py:52: FutureWarning: The frame.append method is deprecated and will be removed from pandas in a future version. Use pandas.concat instead.\n",
      "  df = df.append({'x':num,'sigma_xx':stress[0,0],'sigma_yy':stress[1,1],'sigma_zz':stress[2,2]},ignore_index=True)\n",
      "/tmp/ipykernel_22114/3130618073.py:52: FutureWarning: The frame.append method is deprecated and will be removed from pandas in a future version. Use pandas.concat instead.\n",
      "  df = df.append({'x':num,'sigma_xx':stress[0,0],'sigma_yy':stress[1,1],'sigma_zz':stress[2,2]},ignore_index=True)\n",
      "/tmp/ipykernel_22114/3130618073.py:52: FutureWarning: The frame.append method is deprecated and will be removed from pandas in a future version. Use pandas.concat instead.\n",
      "  df = df.append({'x':num,'sigma_xx':stress[0,0],'sigma_yy':stress[1,1],'sigma_zz':stress[2,2]},ignore_index=True)\n"
     ]
    },
    {
     "name": "stdout",
     "output_type": "stream",
     "text": [
      "0.9867346938775511\n",
      "1.0673469387755103\n",
      "1.1479591836734695\n",
      "1.2285714285714289\n",
      "1.309183673469388\n"
     ]
    },
    {
     "name": "stderr",
     "output_type": "stream",
     "text": [
      "/tmp/ipykernel_22114/3130618073.py:52: FutureWarning: The frame.append method is deprecated and will be removed from pandas in a future version. Use pandas.concat instead.\n",
      "  df = df.append({'x':num,'sigma_xx':stress[0,0],'sigma_yy':stress[1,1],'sigma_zz':stress[2,2]},ignore_index=True)\n",
      "/tmp/ipykernel_22114/3130618073.py:52: FutureWarning: The frame.append method is deprecated and will be removed from pandas in a future version. Use pandas.concat instead.\n",
      "  df = df.append({'x':num,'sigma_xx':stress[0,0],'sigma_yy':stress[1,1],'sigma_zz':stress[2,2]},ignore_index=True)\n",
      "/tmp/ipykernel_22114/3130618073.py:52: FutureWarning: The frame.append method is deprecated and will be removed from pandas in a future version. Use pandas.concat instead.\n",
      "  df = df.append({'x':num,'sigma_xx':stress[0,0],'sigma_yy':stress[1,1],'sigma_zz':stress[2,2]},ignore_index=True)\n",
      "/tmp/ipykernel_22114/3130618073.py:52: FutureWarning: The frame.append method is deprecated and will be removed from pandas in a future version. Use pandas.concat instead.\n",
      "  df = df.append({'x':num,'sigma_xx':stress[0,0],'sigma_yy':stress[1,1],'sigma_zz':stress[2,2]},ignore_index=True)\n",
      "/tmp/ipykernel_22114/3130618073.py:52: FutureWarning: The frame.append method is deprecated and will be removed from pandas in a future version. Use pandas.concat instead.\n",
      "  df = df.append({'x':num,'sigma_xx':stress[0,0],'sigma_yy':stress[1,1],'sigma_zz':stress[2,2]},ignore_index=True)\n"
     ]
    },
    {
     "name": "stdout",
     "output_type": "stream",
     "text": [
      "1.3897959183673472\n",
      "1.4704081632653063\n",
      "1.5510204081632655\n",
      "1.6316326530612248\n",
      "1.712244897959184\n"
     ]
    },
    {
     "name": "stderr",
     "output_type": "stream",
     "text": [
      "/tmp/ipykernel_22114/3130618073.py:52: FutureWarning: The frame.append method is deprecated and will be removed from pandas in a future version. Use pandas.concat instead.\n",
      "  df = df.append({'x':num,'sigma_xx':stress[0,0],'sigma_yy':stress[1,1],'sigma_zz':stress[2,2]},ignore_index=True)\n",
      "/tmp/ipykernel_22114/3130618073.py:52: FutureWarning: The frame.append method is deprecated and will be removed from pandas in a future version. Use pandas.concat instead.\n",
      "  df = df.append({'x':num,'sigma_xx':stress[0,0],'sigma_yy':stress[1,1],'sigma_zz':stress[2,2]},ignore_index=True)\n",
      "/tmp/ipykernel_22114/3130618073.py:52: FutureWarning: The frame.append method is deprecated and will be removed from pandas in a future version. Use pandas.concat instead.\n",
      "  df = df.append({'x':num,'sigma_xx':stress[0,0],'sigma_yy':stress[1,1],'sigma_zz':stress[2,2]},ignore_index=True)\n",
      "/tmp/ipykernel_22114/3130618073.py:52: FutureWarning: The frame.append method is deprecated and will be removed from pandas in a future version. Use pandas.concat instead.\n",
      "  df = df.append({'x':num,'sigma_xx':stress[0,0],'sigma_yy':stress[1,1],'sigma_zz':stress[2,2]},ignore_index=True)\n",
      "/tmp/ipykernel_22114/3130618073.py:52: FutureWarning: The frame.append method is deprecated and will be removed from pandas in a future version. Use pandas.concat instead.\n",
      "  df = df.append({'x':num,'sigma_xx':stress[0,0],'sigma_yy':stress[1,1],'sigma_zz':stress[2,2]},ignore_index=True)\n"
     ]
    },
    {
     "name": "stdout",
     "output_type": "stream",
     "text": [
      "1.7928571428571431\n",
      "1.8734693877551023\n",
      "1.9540816326530615\n",
      "2.0346938775510206\n",
      "2.1153061224489798\n",
      "2.195918367346939\n"
     ]
    },
    {
     "name": "stderr",
     "output_type": "stream",
     "text": [
      "/tmp/ipykernel_22114/3130618073.py:52: FutureWarning: The frame.append method is deprecated and will be removed from pandas in a future version. Use pandas.concat instead.\n",
      "  df = df.append({'x':num,'sigma_xx':stress[0,0],'sigma_yy':stress[1,1],'sigma_zz':stress[2,2]},ignore_index=True)\n",
      "/tmp/ipykernel_22114/3130618073.py:52: FutureWarning: The frame.append method is deprecated and will be removed from pandas in a future version. Use pandas.concat instead.\n",
      "  df = df.append({'x':num,'sigma_xx':stress[0,0],'sigma_yy':stress[1,1],'sigma_zz':stress[2,2]},ignore_index=True)\n",
      "/tmp/ipykernel_22114/3130618073.py:52: FutureWarning: The frame.append method is deprecated and will be removed from pandas in a future version. Use pandas.concat instead.\n",
      "  df = df.append({'x':num,'sigma_xx':stress[0,0],'sigma_yy':stress[1,1],'sigma_zz':stress[2,2]},ignore_index=True)\n",
      "/tmp/ipykernel_22114/3130618073.py:52: FutureWarning: The frame.append method is deprecated and will be removed from pandas in a future version. Use pandas.concat instead.\n",
      "  df = df.append({'x':num,'sigma_xx':stress[0,0],'sigma_yy':stress[1,1],'sigma_zz':stress[2,2]},ignore_index=True)\n",
      "/tmp/ipykernel_22114/3130618073.py:52: FutureWarning: The frame.append method is deprecated and will be removed from pandas in a future version. Use pandas.concat instead.\n",
      "  df = df.append({'x':num,'sigma_xx':stress[0,0],'sigma_yy':stress[1,1],'sigma_zz':stress[2,2]},ignore_index=True)\n",
      "/tmp/ipykernel_22114/3130618073.py:52: FutureWarning: The frame.append method is deprecated and will be removed from pandas in a future version. Use pandas.concat instead.\n",
      "  df = df.append({'x':num,'sigma_xx':stress[0,0],'sigma_yy':stress[1,1],'sigma_zz':stress[2,2]},ignore_index=True)\n"
     ]
    },
    {
     "name": "stdout",
     "output_type": "stream",
     "text": [
      "2.2765306122448985\n",
      "2.3571428571428577\n",
      "2.437755102040817\n",
      "2.518367346938776\n",
      "2.598979591836735\n"
     ]
    },
    {
     "name": "stderr",
     "output_type": "stream",
     "text": [
      "/tmp/ipykernel_22114/3130618073.py:52: FutureWarning: The frame.append method is deprecated and will be removed from pandas in a future version. Use pandas.concat instead.\n",
      "  df = df.append({'x':num,'sigma_xx':stress[0,0],'sigma_yy':stress[1,1],'sigma_zz':stress[2,2]},ignore_index=True)\n",
      "/tmp/ipykernel_22114/3130618073.py:52: FutureWarning: The frame.append method is deprecated and will be removed from pandas in a future version. Use pandas.concat instead.\n",
      "  df = df.append({'x':num,'sigma_xx':stress[0,0],'sigma_yy':stress[1,1],'sigma_zz':stress[2,2]},ignore_index=True)\n",
      "/tmp/ipykernel_22114/3130618073.py:52: FutureWarning: The frame.append method is deprecated and will be removed from pandas in a future version. Use pandas.concat instead.\n",
      "  df = df.append({'x':num,'sigma_xx':stress[0,0],'sigma_yy':stress[1,1],'sigma_zz':stress[2,2]},ignore_index=True)\n",
      "/tmp/ipykernel_22114/3130618073.py:52: FutureWarning: The frame.append method is deprecated and will be removed from pandas in a future version. Use pandas.concat instead.\n",
      "  df = df.append({'x':num,'sigma_xx':stress[0,0],'sigma_yy':stress[1,1],'sigma_zz':stress[2,2]},ignore_index=True)\n",
      "/tmp/ipykernel_22114/3130618073.py:52: FutureWarning: The frame.append method is deprecated and will be removed from pandas in a future version. Use pandas.concat instead.\n",
      "  df = df.append({'x':num,'sigma_xx':stress[0,0],'sigma_yy':stress[1,1],'sigma_zz':stress[2,2]},ignore_index=True)\n"
     ]
    },
    {
     "name": "stdout",
     "output_type": "stream",
     "text": [
      "2.6795918367346943\n",
      "2.7602040816326534\n",
      "2.8408163265306126\n",
      "2.9214285714285717\n",
      "3.002040816326531\n"
     ]
    },
    {
     "name": "stderr",
     "output_type": "stream",
     "text": [
      "/tmp/ipykernel_22114/3130618073.py:52: FutureWarning: The frame.append method is deprecated and will be removed from pandas in a future version. Use pandas.concat instead.\n",
      "  df = df.append({'x':num,'sigma_xx':stress[0,0],'sigma_yy':stress[1,1],'sigma_zz':stress[2,2]},ignore_index=True)\n",
      "/tmp/ipykernel_22114/3130618073.py:52: FutureWarning: The frame.append method is deprecated and will be removed from pandas in a future version. Use pandas.concat instead.\n",
      "  df = df.append({'x':num,'sigma_xx':stress[0,0],'sigma_yy':stress[1,1],'sigma_zz':stress[2,2]},ignore_index=True)\n",
      "/tmp/ipykernel_22114/3130618073.py:52: FutureWarning: The frame.append method is deprecated and will be removed from pandas in a future version. Use pandas.concat instead.\n",
      "  df = df.append({'x':num,'sigma_xx':stress[0,0],'sigma_yy':stress[1,1],'sigma_zz':stress[2,2]},ignore_index=True)\n",
      "/tmp/ipykernel_22114/3130618073.py:52: FutureWarning: The frame.append method is deprecated and will be removed from pandas in a future version. Use pandas.concat instead.\n",
      "  df = df.append({'x':num,'sigma_xx':stress[0,0],'sigma_yy':stress[1,1],'sigma_zz':stress[2,2]},ignore_index=True)\n",
      "/tmp/ipykernel_22114/3130618073.py:52: FutureWarning: The frame.append method is deprecated and will be removed from pandas in a future version. Use pandas.concat instead.\n",
      "  df = df.append({'x':num,'sigma_xx':stress[0,0],'sigma_yy':stress[1,1],'sigma_zz':stress[2,2]},ignore_index=True)\n"
     ]
    },
    {
     "name": "stdout",
     "output_type": "stream",
     "text": [
      "3.08265306122449\n",
      "3.1632653061224496\n",
      "3.2438775510204088\n",
      "3.324489795918368\n",
      "3.405102040816327\n",
      "3.485714285714286\n"
     ]
    },
    {
     "name": "stderr",
     "output_type": "stream",
     "text": [
      "/tmp/ipykernel_22114/3130618073.py:52: FutureWarning: The frame.append method is deprecated and will be removed from pandas in a future version. Use pandas.concat instead.\n",
      "  df = df.append({'x':num,'sigma_xx':stress[0,0],'sigma_yy':stress[1,1],'sigma_zz':stress[2,2]},ignore_index=True)\n",
      "/tmp/ipykernel_22114/3130618073.py:52: FutureWarning: The frame.append method is deprecated and will be removed from pandas in a future version. Use pandas.concat instead.\n",
      "  df = df.append({'x':num,'sigma_xx':stress[0,0],'sigma_yy':stress[1,1],'sigma_zz':stress[2,2]},ignore_index=True)\n",
      "/tmp/ipykernel_22114/3130618073.py:52: FutureWarning: The frame.append method is deprecated and will be removed from pandas in a future version. Use pandas.concat instead.\n",
      "  df = df.append({'x':num,'sigma_xx':stress[0,0],'sigma_yy':stress[1,1],'sigma_zz':stress[2,2]},ignore_index=True)\n",
      "/tmp/ipykernel_22114/3130618073.py:52: FutureWarning: The frame.append method is deprecated and will be removed from pandas in a future version. Use pandas.concat instead.\n",
      "  df = df.append({'x':num,'sigma_xx':stress[0,0],'sigma_yy':stress[1,1],'sigma_zz':stress[2,2]},ignore_index=True)\n",
      "/tmp/ipykernel_22114/3130618073.py:52: FutureWarning: The frame.append method is deprecated and will be removed from pandas in a future version. Use pandas.concat instead.\n",
      "  df = df.append({'x':num,'sigma_xx':stress[0,0],'sigma_yy':stress[1,1],'sigma_zz':stress[2,2]},ignore_index=True)\n",
      "/tmp/ipykernel_22114/3130618073.py:52: FutureWarning: The frame.append method is deprecated and will be removed from pandas in a future version. Use pandas.concat instead.\n",
      "  df = df.append({'x':num,'sigma_xx':stress[0,0],'sigma_yy':stress[1,1],'sigma_zz':stress[2,2]},ignore_index=True)\n"
     ]
    },
    {
     "name": "stdout",
     "output_type": "stream",
     "text": [
      "3.5663265306122454\n",
      "3.6469387755102045\n",
      "3.7275510204081637\n",
      "3.808163265306123\n",
      "3.888775510204082\n"
     ]
    },
    {
     "name": "stderr",
     "output_type": "stream",
     "text": [
      "/tmp/ipykernel_22114/3130618073.py:52: FutureWarning: The frame.append method is deprecated and will be removed from pandas in a future version. Use pandas.concat instead.\n",
      "  df = df.append({'x':num,'sigma_xx':stress[0,0],'sigma_yy':stress[1,1],'sigma_zz':stress[2,2]},ignore_index=True)\n",
      "/tmp/ipykernel_22114/3130618073.py:52: FutureWarning: The frame.append method is deprecated and will be removed from pandas in a future version. Use pandas.concat instead.\n",
      "  df = df.append({'x':num,'sigma_xx':stress[0,0],'sigma_yy':stress[1,1],'sigma_zz':stress[2,2]},ignore_index=True)\n",
      "/tmp/ipykernel_22114/3130618073.py:52: FutureWarning: The frame.append method is deprecated and will be removed from pandas in a future version. Use pandas.concat instead.\n",
      "  df = df.append({'x':num,'sigma_xx':stress[0,0],'sigma_yy':stress[1,1],'sigma_zz':stress[2,2]},ignore_index=True)\n",
      "/tmp/ipykernel_22114/3130618073.py:52: FutureWarning: The frame.append method is deprecated and will be removed from pandas in a future version. Use pandas.concat instead.\n",
      "  df = df.append({'x':num,'sigma_xx':stress[0,0],'sigma_yy':stress[1,1],'sigma_zz':stress[2,2]},ignore_index=True)\n",
      "/tmp/ipykernel_22114/3130618073.py:52: FutureWarning: The frame.append method is deprecated and will be removed from pandas in a future version. Use pandas.concat instead.\n",
      "  df = df.append({'x':num,'sigma_xx':stress[0,0],'sigma_yy':stress[1,1],'sigma_zz':stress[2,2]},ignore_index=True)\n"
     ]
    },
    {
     "name": "stdout",
     "output_type": "stream",
     "text": [
      "3.969387755102041\n",
      "4.050000000000001\n",
      "4.130612244897959\n",
      "4.211224489795918\n"
     ]
    },
    {
     "name": "stderr",
     "output_type": "stream",
     "text": [
      "/tmp/ipykernel_22114/3130618073.py:52: FutureWarning: The frame.append method is deprecated and will be removed from pandas in a future version. Use pandas.concat instead.\n",
      "  df = df.append({'x':num,'sigma_xx':stress[0,0],'sigma_yy':stress[1,1],'sigma_zz':stress[2,2]},ignore_index=True)\n",
      "/tmp/ipykernel_22114/3130618073.py:52: FutureWarning: The frame.append method is deprecated and will be removed from pandas in a future version. Use pandas.concat instead.\n",
      "  df = df.append({'x':num,'sigma_xx':stress[0,0],'sigma_yy':stress[1,1],'sigma_zz':stress[2,2]},ignore_index=True)\n",
      "/tmp/ipykernel_22114/3130618073.py:52: FutureWarning: The frame.append method is deprecated and will be removed from pandas in a future version. Use pandas.concat instead.\n",
      "  df = df.append({'x':num,'sigma_xx':stress[0,0],'sigma_yy':stress[1,1],'sigma_zz':stress[2,2]},ignore_index=True)\n",
      "/tmp/ipykernel_22114/3130618073.py:52: FutureWarning: The frame.append method is deprecated and will be removed from pandas in a future version. Use pandas.concat instead.\n",
      "  df = df.append({'x':num,'sigma_xx':stress[0,0],'sigma_yy':stress[1,1],'sigma_zz':stress[2,2]},ignore_index=True)\n"
     ]
    },
    {
     "name": "stdout",
     "output_type": "stream",
     "text": [
      "4.291836734693877\n",
      "4.372448979591836\n",
      "4.4530612244897965\n",
      "4.533673469387756\n",
      "4.614285714285715\n"
     ]
    },
    {
     "name": "stderr",
     "output_type": "stream",
     "text": [
      "/tmp/ipykernel_22114/3130618073.py:52: FutureWarning: The frame.append method is deprecated and will be removed from pandas in a future version. Use pandas.concat instead.\n",
      "  df = df.append({'x':num,'sigma_xx':stress[0,0],'sigma_yy':stress[1,1],'sigma_zz':stress[2,2]},ignore_index=True)\n",
      "/tmp/ipykernel_22114/3130618073.py:52: FutureWarning: The frame.append method is deprecated and will be removed from pandas in a future version. Use pandas.concat instead.\n",
      "  df = df.append({'x':num,'sigma_xx':stress[0,0],'sigma_yy':stress[1,1],'sigma_zz':stress[2,2]},ignore_index=True)\n",
      "/tmp/ipykernel_22114/3130618073.py:52: FutureWarning: The frame.append method is deprecated and will be removed from pandas in a future version. Use pandas.concat instead.\n",
      "  df = df.append({'x':num,'sigma_xx':stress[0,0],'sigma_yy':stress[1,1],'sigma_zz':stress[2,2]},ignore_index=True)\n",
      "/tmp/ipykernel_22114/3130618073.py:52: FutureWarning: The frame.append method is deprecated and will be removed from pandas in a future version. Use pandas.concat instead.\n",
      "  df = df.append({'x':num,'sigma_xx':stress[0,0],'sigma_yy':stress[1,1],'sigma_zz':stress[2,2]},ignore_index=True)\n",
      "/tmp/ipykernel_22114/3130618073.py:52: FutureWarning: The frame.append method is deprecated and will be removed from pandas in a future version. Use pandas.concat instead.\n",
      "  df = df.append({'x':num,'sigma_xx':stress[0,0],'sigma_yy':stress[1,1],'sigma_zz':stress[2,2]},ignore_index=True)\n"
     ]
    },
    {
     "name": "stdout",
     "output_type": "stream",
     "text": [
      "4.694897959183674\n",
      "4.775510204081633\n",
      "4.856122448979592\n",
      "4.936734693877551\n",
      "5.0173469387755105\n"
     ]
    },
    {
     "name": "stderr",
     "output_type": "stream",
     "text": [
      "/tmp/ipykernel_22114/3130618073.py:52: FutureWarning: The frame.append method is deprecated and will be removed from pandas in a future version. Use pandas.concat instead.\n",
      "  df = df.append({'x':num,'sigma_xx':stress[0,0],'sigma_yy':stress[1,1],'sigma_zz':stress[2,2]},ignore_index=True)\n",
      "/tmp/ipykernel_22114/3130618073.py:52: FutureWarning: The frame.append method is deprecated and will be removed from pandas in a future version. Use pandas.concat instead.\n",
      "  df = df.append({'x':num,'sigma_xx':stress[0,0],'sigma_yy':stress[1,1],'sigma_zz':stress[2,2]},ignore_index=True)\n",
      "/tmp/ipykernel_22114/3130618073.py:52: FutureWarning: The frame.append method is deprecated and will be removed from pandas in a future version. Use pandas.concat instead.\n",
      "  df = df.append({'x':num,'sigma_xx':stress[0,0],'sigma_yy':stress[1,1],'sigma_zz':stress[2,2]},ignore_index=True)\n",
      "/tmp/ipykernel_22114/3130618073.py:52: FutureWarning: The frame.append method is deprecated and will be removed from pandas in a future version. Use pandas.concat instead.\n",
      "  df = df.append({'x':num,'sigma_xx':stress[0,0],'sigma_yy':stress[1,1],'sigma_zz':stress[2,2]},ignore_index=True)\n",
      "/tmp/ipykernel_22114/3130618073.py:52: FutureWarning: The frame.append method is deprecated and will be removed from pandas in a future version. Use pandas.concat instead.\n",
      "  df = df.append({'x':num,'sigma_xx':stress[0,0],'sigma_yy':stress[1,1],'sigma_zz':stress[2,2]},ignore_index=True)\n"
     ]
    },
    {
     "name": "stdout",
     "output_type": "stream",
     "text": [
      "5.09795918367347\n",
      "5.178571428571429\n",
      "5.259183673469388\n",
      "5.339795918367347\n",
      "5.420408163265306\n",
      "5.501020408163265\n",
      "5.581632653061225\n"
     ]
    },
    {
     "name": "stderr",
     "output_type": "stream",
     "text": [
      "/tmp/ipykernel_22114/3130618073.py:52: FutureWarning: The frame.append method is deprecated and will be removed from pandas in a future version. Use pandas.concat instead.\n",
      "  df = df.append({'x':num,'sigma_xx':stress[0,0],'sigma_yy':stress[1,1],'sigma_zz':stress[2,2]},ignore_index=True)\n",
      "/tmp/ipykernel_22114/3130618073.py:52: FutureWarning: The frame.append method is deprecated and will be removed from pandas in a future version. Use pandas.concat instead.\n",
      "  df = df.append({'x':num,'sigma_xx':stress[0,0],'sigma_yy':stress[1,1],'sigma_zz':stress[2,2]},ignore_index=True)\n",
      "/tmp/ipykernel_22114/3130618073.py:52: FutureWarning: The frame.append method is deprecated and will be removed from pandas in a future version. Use pandas.concat instead.\n",
      "  df = df.append({'x':num,'sigma_xx':stress[0,0],'sigma_yy':stress[1,1],'sigma_zz':stress[2,2]},ignore_index=True)\n",
      "/tmp/ipykernel_22114/3130618073.py:52: FutureWarning: The frame.append method is deprecated and will be removed from pandas in a future version. Use pandas.concat instead.\n",
      "  df = df.append({'x':num,'sigma_xx':stress[0,0],'sigma_yy':stress[1,1],'sigma_zz':stress[2,2]},ignore_index=True)\n",
      "/tmp/ipykernel_22114/3130618073.py:52: FutureWarning: The frame.append method is deprecated and will be removed from pandas in a future version. Use pandas.concat instead.\n",
      "  df = df.append({'x':num,'sigma_xx':stress[0,0],'sigma_yy':stress[1,1],'sigma_zz':stress[2,2]},ignore_index=True)\n",
      "/tmp/ipykernel_22114/3130618073.py:52: FutureWarning: The frame.append method is deprecated and will be removed from pandas in a future version. Use pandas.concat instead.\n",
      "  df = df.append({'x':num,'sigma_xx':stress[0,0],'sigma_yy':stress[1,1],'sigma_zz':stress[2,2]},ignore_index=True)\n",
      "/tmp/ipykernel_22114/3130618073.py:52: FutureWarning: The frame.append method is deprecated and will be removed from pandas in a future version. Use pandas.concat instead.\n",
      "  df = df.append({'x':num,'sigma_xx':stress[0,0],'sigma_yy':stress[1,1],'sigma_zz':stress[2,2]},ignore_index=True)\n"
     ]
    },
    {
     "name": "stdout",
     "output_type": "stream",
     "text": [
      "5.662244897959184\n",
      "5.742857142857143\n",
      "5.823469387755102\n",
      "5.904081632653061\n",
      "5.98469387755102\n"
     ]
    },
    {
     "name": "stderr",
     "output_type": "stream",
     "text": [
      "/tmp/ipykernel_22114/3130618073.py:52: FutureWarning: The frame.append method is deprecated and will be removed from pandas in a future version. Use pandas.concat instead.\n",
      "  df = df.append({'x':num,'sigma_xx':stress[0,0],'sigma_yy':stress[1,1],'sigma_zz':stress[2,2]},ignore_index=True)\n",
      "/tmp/ipykernel_22114/3130618073.py:52: FutureWarning: The frame.append method is deprecated and will be removed from pandas in a future version. Use pandas.concat instead.\n",
      "  df = df.append({'x':num,'sigma_xx':stress[0,0],'sigma_yy':stress[1,1],'sigma_zz':stress[2,2]},ignore_index=True)\n",
      "/tmp/ipykernel_22114/3130618073.py:52: FutureWarning: The frame.append method is deprecated and will be removed from pandas in a future version. Use pandas.concat instead.\n",
      "  df = df.append({'x':num,'sigma_xx':stress[0,0],'sigma_yy':stress[1,1],'sigma_zz':stress[2,2]},ignore_index=True)\n",
      "/tmp/ipykernel_22114/3130618073.py:52: FutureWarning: The frame.append method is deprecated and will be removed from pandas in a future version. Use pandas.concat instead.\n",
      "  df = df.append({'x':num,'sigma_xx':stress[0,0],'sigma_yy':stress[1,1],'sigma_zz':stress[2,2]},ignore_index=True)\n",
      "/tmp/ipykernel_22114/3130618073.py:52: FutureWarning: The frame.append method is deprecated and will be removed from pandas in a future version. Use pandas.concat instead.\n",
      "  df = df.append({'x':num,'sigma_xx':stress[0,0],'sigma_yy':stress[1,1],'sigma_zz':stress[2,2]},ignore_index=True)\n"
     ]
    },
    {
     "name": "stdout",
     "output_type": "stream",
     "text": [
      "6.0653061224489795\n",
      "6.1459183673469395\n",
      "6.226530612244899\n",
      "6.307142857142858\n",
      "6.387755102040817\n"
     ]
    },
    {
     "name": "stderr",
     "output_type": "stream",
     "text": [
      "/tmp/ipykernel_22114/3130618073.py:52: FutureWarning: The frame.append method is deprecated and will be removed from pandas in a future version. Use pandas.concat instead.\n",
      "  df = df.append({'x':num,'sigma_xx':stress[0,0],'sigma_yy':stress[1,1],'sigma_zz':stress[2,2]},ignore_index=True)\n",
      "/tmp/ipykernel_22114/3130618073.py:52: FutureWarning: The frame.append method is deprecated and will be removed from pandas in a future version. Use pandas.concat instead.\n",
      "  df = df.append({'x':num,'sigma_xx':stress[0,0],'sigma_yy':stress[1,1],'sigma_zz':stress[2,2]},ignore_index=True)\n",
      "/tmp/ipykernel_22114/3130618073.py:52: FutureWarning: The frame.append method is deprecated and will be removed from pandas in a future version. Use pandas.concat instead.\n",
      "  df = df.append({'x':num,'sigma_xx':stress[0,0],'sigma_yy':stress[1,1],'sigma_zz':stress[2,2]},ignore_index=True)\n",
      "/tmp/ipykernel_22114/3130618073.py:52: FutureWarning: The frame.append method is deprecated and will be removed from pandas in a future version. Use pandas.concat instead.\n",
      "  df = df.append({'x':num,'sigma_xx':stress[0,0],'sigma_yy':stress[1,1],'sigma_zz':stress[2,2]},ignore_index=True)\n",
      "/tmp/ipykernel_22114/3130618073.py:52: FutureWarning: The frame.append method is deprecated and will be removed from pandas in a future version. Use pandas.concat instead.\n",
      "  df = df.append({'x':num,'sigma_xx':stress[0,0],'sigma_yy':stress[1,1],'sigma_zz':stress[2,2]},ignore_index=True)\n"
     ]
    },
    {
     "name": "stdout",
     "output_type": "stream",
     "text": [
      "6.468367346938776\n",
      "6.548979591836735\n",
      "6.629591836734694\n",
      "6.710204081632654\n"
     ]
    },
    {
     "name": "stderr",
     "output_type": "stream",
     "text": [
      "/tmp/ipykernel_22114/3130618073.py:52: FutureWarning: The frame.append method is deprecated and will be removed from pandas in a future version. Use pandas.concat instead.\n",
      "  df = df.append({'x':num,'sigma_xx':stress[0,0],'sigma_yy':stress[1,1],'sigma_zz':stress[2,2]},ignore_index=True)\n",
      "/tmp/ipykernel_22114/3130618073.py:52: FutureWarning: The frame.append method is deprecated and will be removed from pandas in a future version. Use pandas.concat instead.\n",
      "  df = df.append({'x':num,'sigma_xx':stress[0,0],'sigma_yy':stress[1,1],'sigma_zz':stress[2,2]},ignore_index=True)\n",
      "/tmp/ipykernel_22114/3130618073.py:52: FutureWarning: The frame.append method is deprecated and will be removed from pandas in a future version. Use pandas.concat instead.\n",
      "  df = df.append({'x':num,'sigma_xx':stress[0,0],'sigma_yy':stress[1,1],'sigma_zz':stress[2,2]},ignore_index=True)\n",
      "/tmp/ipykernel_22114/3130618073.py:52: FutureWarning: The frame.append method is deprecated and will be removed from pandas in a future version. Use pandas.concat instead.\n",
      "  df = df.append({'x':num,'sigma_xx':stress[0,0],'sigma_yy':stress[1,1],'sigma_zz':stress[2,2]},ignore_index=True)\n"
     ]
    },
    {
     "name": "stdout",
     "output_type": "stream",
     "text": [
      "6.790816326530613\n",
      "6.871428571428572\n",
      "6.952040816326531\n",
      "7.03265306122449\n",
      "7.113265306122449\n",
      "7.1938775510204085\n"
     ]
    },
    {
     "name": "stderr",
     "output_type": "stream",
     "text": [
      "/tmp/ipykernel_22114/3130618073.py:52: FutureWarning: The frame.append method is deprecated and will be removed from pandas in a future version. Use pandas.concat instead.\n",
      "  df = df.append({'x':num,'sigma_xx':stress[0,0],'sigma_yy':stress[1,1],'sigma_zz':stress[2,2]},ignore_index=True)\n",
      "/tmp/ipykernel_22114/3130618073.py:52: FutureWarning: The frame.append method is deprecated and will be removed from pandas in a future version. Use pandas.concat instead.\n",
      "  df = df.append({'x':num,'sigma_xx':stress[0,0],'sigma_yy':stress[1,1],'sigma_zz':stress[2,2]},ignore_index=True)\n",
      "/tmp/ipykernel_22114/3130618073.py:52: FutureWarning: The frame.append method is deprecated and will be removed from pandas in a future version. Use pandas.concat instead.\n",
      "  df = df.append({'x':num,'sigma_xx':stress[0,0],'sigma_yy':stress[1,1],'sigma_zz':stress[2,2]},ignore_index=True)\n",
      "/tmp/ipykernel_22114/3130618073.py:52: FutureWarning: The frame.append method is deprecated and will be removed from pandas in a future version. Use pandas.concat instead.\n",
      "  df = df.append({'x':num,'sigma_xx':stress[0,0],'sigma_yy':stress[1,1],'sigma_zz':stress[2,2]},ignore_index=True)\n",
      "/tmp/ipykernel_22114/3130618073.py:52: FutureWarning: The frame.append method is deprecated and will be removed from pandas in a future version. Use pandas.concat instead.\n",
      "  df = df.append({'x':num,'sigma_xx':stress[0,0],'sigma_yy':stress[1,1],'sigma_zz':stress[2,2]},ignore_index=True)\n",
      "/tmp/ipykernel_22114/3130618073.py:52: FutureWarning: The frame.append method is deprecated and will be removed from pandas in a future version. Use pandas.concat instead.\n",
      "  df = df.append({'x':num,'sigma_xx':stress[0,0],'sigma_yy':stress[1,1],'sigma_zz':stress[2,2]},ignore_index=True)\n"
     ]
    },
    {
     "name": "stdout",
     "output_type": "stream",
     "text": [
      "7.274489795918368\n",
      "7.355102040816327\n",
      "7.435714285714286\n",
      "7.516326530612245\n"
     ]
    },
    {
     "name": "stderr",
     "output_type": "stream",
     "text": [
      "/tmp/ipykernel_22114/3130618073.py:52: FutureWarning: The frame.append method is deprecated and will be removed from pandas in a future version. Use pandas.concat instead.\n",
      "  df = df.append({'x':num,'sigma_xx':stress[0,0],'sigma_yy':stress[1,1],'sigma_zz':stress[2,2]},ignore_index=True)\n",
      "/tmp/ipykernel_22114/3130618073.py:52: FutureWarning: The frame.append method is deprecated and will be removed from pandas in a future version. Use pandas.concat instead.\n",
      "  df = df.append({'x':num,'sigma_xx':stress[0,0],'sigma_yy':stress[1,1],'sigma_zz':stress[2,2]},ignore_index=True)\n",
      "/tmp/ipykernel_22114/3130618073.py:52: FutureWarning: The frame.append method is deprecated and will be removed from pandas in a future version. Use pandas.concat instead.\n",
      "  df = df.append({'x':num,'sigma_xx':stress[0,0],'sigma_yy':stress[1,1],'sigma_zz':stress[2,2]},ignore_index=True)\n",
      "/tmp/ipykernel_22114/3130618073.py:52: FutureWarning: The frame.append method is deprecated and will be removed from pandas in a future version. Use pandas.concat instead.\n",
      "  df = df.append({'x':num,'sigma_xx':stress[0,0],'sigma_yy':stress[1,1],'sigma_zz':stress[2,2]},ignore_index=True)\n"
     ]
    },
    {
     "name": "stdout",
     "output_type": "stream",
     "text": [
      "7.596938775510204\n",
      "7.677551020408163\n",
      "7.7581632653061225\n",
      "7.838775510204082\n",
      "7.919387755102042\n",
      "8.0\n"
     ]
    },
    {
     "name": "stderr",
     "output_type": "stream",
     "text": [
      "/tmp/ipykernel_22114/3130618073.py:52: FutureWarning: The frame.append method is deprecated and will be removed from pandas in a future version. Use pandas.concat instead.\n",
      "  df = df.append({'x':num,'sigma_xx':stress[0,0],'sigma_yy':stress[1,1],'sigma_zz':stress[2,2]},ignore_index=True)\n",
      "/tmp/ipykernel_22114/3130618073.py:52: FutureWarning: The frame.append method is deprecated and will be removed from pandas in a future version. Use pandas.concat instead.\n",
      "  df = df.append({'x':num,'sigma_xx':stress[0,0],'sigma_yy':stress[1,1],'sigma_zz':stress[2,2]},ignore_index=True)\n",
      "/tmp/ipykernel_22114/3130618073.py:52: FutureWarning: The frame.append method is deprecated and will be removed from pandas in a future version. Use pandas.concat instead.\n",
      "  df = df.append({'x':num,'sigma_xx':stress[0,0],'sigma_yy':stress[1,1],'sigma_zz':stress[2,2]},ignore_index=True)\n",
      "/tmp/ipykernel_22114/3130618073.py:52: FutureWarning: The frame.append method is deprecated and will be removed from pandas in a future version. Use pandas.concat instead.\n",
      "  df = df.append({'x':num,'sigma_xx':stress[0,0],'sigma_yy':stress[1,1],'sigma_zz':stress[2,2]},ignore_index=True)\n",
      "/tmp/ipykernel_22114/3130618073.py:52: FutureWarning: The frame.append method is deprecated and will be removed from pandas in a future version. Use pandas.concat instead.\n",
      "  df = df.append({'x':num,'sigma_xx':stress[0,0],'sigma_yy':stress[1,1],'sigma_zz':stress[2,2]},ignore_index=True)\n",
      "/tmp/ipykernel_22114/3130618073.py:52: FutureWarning: The frame.append method is deprecated and will be removed from pandas in a future version. Use pandas.concat instead.\n",
      "  df = df.append({'x':num,'sigma_xx':stress[0,0],'sigma_yy':stress[1,1],'sigma_zz':stress[2,2]},ignore_index=True)\n"
     ]
    },
    {
     "data": {
      "image/png": "[encoded data removed]",
      "text/plain": [
       "<Figure size 640x480 with 1 Axes>"
      ]
     },
     "metadata": {},
     "output_type": "display_data"
    }
   ],
   "source": [
    "import matplotlib.pyplot as plt\n",
    "import pandas as pd\n",
    "\n",
    "# Create a dataframe to store the results\n",
    "df = pd.DataFrame(columns=['x','sigma_xx','sigma_yy','sigma_zz'])\n",
    "\n",
    "sigma_xx = []\n",
    "sigma_yy = []\n",
    "sigma_zz = []\n",
    "xlen = np.linspace(0.1,8,99)\n",
    "for num in xlen:\n",
    "    x = np.array([num,0,0])\n",
    "    inside = False\n",
    "    # Check if x is inside ellipsoid\n",
    "    if ((x[0]/a[0])**2 + (x[1]/a[1])**2 + (x[2]/a[2])**2) <= 1:\n",
    "        inside = True\n",
    "\n",
    "    lambda_ = get_lambda(x,a)\n",
    "    #print(\"lambda = \",lambda_)\n",
    "\n",
    "    I = I_(x,a,lambda_)\n",
    "    Ii = Ii_(x,a,lambda_)\n",
    "    Iij = Iij_(x,a,lambda_)\n",
    "    #print(\"I's are done \")\n",
    "\n",
    "    S = get_Sijkl(x,a,I,Ii,Iij)\n",
    "    #print(\"Sijkl is done \")\n",
    "\n",
    "    lambda_der = lamb_der(x,a,lambda_)\n",
    "    lambda_der2 = lamb_der2(x,a,lambda_,lambda_der)\n",
    "    #print(\"lambda derivatives are done \")\n",
    "\n",
    "    Ii_j = Ii_j_(x,a,lambda_,lambda_der)\n",
    "    Iij_k = Iij_k_(x,a,lambda_,lambda_der)\n",
    "    Iij_kl = Iij_kl_(x,a,lambda_,lambda_der,lambda_der2)\n",
    "    Ii_jk = Ii_jk_(x,a,lambda_,lambda_der,lambda_der2)\n",
    "    #print(\"Ii_j, Iij_k, Iij_kl, Ii_jk are done \")\n",
    "\n",
    "    Dijkl = get_Dijkl(x,a,S,Ii_j, Iij_k, Iij_kl, Ii_jk)\n",
    "    #print(\"Dijkl is done \")\n",
    "\n",
    "    epsilon = get_epsilon(Dijkl,app_strain)\n",
    "    stress = get_stress(epsilon,E,nu,app_strain,inside)\n",
    "    #print(\"stress = \",stress)\n",
    "\n",
    "    sigma_xx.append(stress[0,0])\n",
    "    sigma_yy.append(stress[1,1])\n",
    "    sigma_zz.append(stress[2,2])\n",
    "    print(num)\n",
    "\n",
    "    # Store the results in a dataframe\n",
    "    df = df.append({'x':num,'sigma_xx':stress[0,0],'sigma_yy':stress[1,1],'sigma_zz':stress[2,2]},ignore_index=True)\n",
    "\n",
    "plt.plot(xlen,sigma_xx,label=\"sigma_xx\")\n",
    "plt.plot(xlen,sigma_yy,label=\"sigma_yy\")\n",
    "plt.plot(xlen,sigma_zz,label=\"sigma_zz\")\n",
    "plt.legend()\n",
    "plt.xlabel(\"x\")\n",
    "plt.ylabel(\"sigma\")\n",
    "plt.show()\n"
   ]
  },
  {
   "cell_type": "code",
   "execution_count": 15,
   "metadata": {},
   "outputs": [
    {
     "data": {
      "text/html": [
       "<div>\n",
       "<style scoped>\n",
       "    .dataframe tbody tr th:only-of-type {\n",
       "        vertical-align: middle;\n",
       "    }\n",
       "\n",
       "    .dataframe tbody tr th {\n",
       "        vertical-align: top;\n",
       "    }\n",
       "\n",
       "    .dataframe thead th {\n",
       "        text-align: right;\n",
       "    }\n",
       "</style>\n",
       "<table border=\"1\" class=\"dataframe\">\n",
       "  <thead>\n",
       "    <tr style=\"text-align: right;\">\n",
       "      <th></th>\n",
       "      <th>x</th>\n",
       "      <th>sigma_xx</th>\n",
       "      <th>sigma_yy</th>\n",
       "      <th>sigma_zz</th>\n",
       "    </tr>\n",
       "  </thead>\n",
       "  <tbody>\n",
       "    <tr>\n",
       "      <th>0</th>\n",
       "      <td>0.100000</td>\n",
       "      <td>-0.253110</td>\n",
       "      <td>-0.219854</td>\n",
       "      <td>-0.127036</td>\n",
       "    </tr>\n",
       "    <tr>\n",
       "      <th>1</th>\n",
       "      <td>0.180612</td>\n",
       "      <td>-0.253110</td>\n",
       "      <td>-0.219854</td>\n",
       "      <td>-0.127036</td>\n",
       "    </tr>\n",
       "    <tr>\n",
       "      <th>2</th>\n",
       "      <td>0.261224</td>\n",
       "      <td>-0.253110</td>\n",
       "      <td>-0.219854</td>\n",
       "      <td>-0.127036</td>\n",
       "    </tr>\n",
       "    <tr>\n",
       "      <th>3</th>\n",
       "      <td>0.341837</td>\n",
       "      <td>-0.253110</td>\n",
       "      <td>-0.219854</td>\n",
       "      <td>-0.127036</td>\n",
       "    </tr>\n",
       "    <tr>\n",
       "      <th>4</th>\n",
       "      <td>0.422449</td>\n",
       "      <td>-0.253110</td>\n",
       "      <td>-0.219854</td>\n",
       "      <td>-0.127036</td>\n",
       "    </tr>\n",
       "    <tr>\n",
       "      <th>...</th>\n",
       "      <td>...</td>\n",
       "      <td>...</td>\n",
       "      <td>...</td>\n",
       "      <td>...</td>\n",
       "    </tr>\n",
       "    <tr>\n",
       "      <th>94</th>\n",
       "      <td>7.677551</td>\n",
       "      <td>-0.000079</td>\n",
       "      <td>-0.000070</td>\n",
       "      <td>-0.000071</td>\n",
       "    </tr>\n",
       "    <tr>\n",
       "      <th>95</th>\n",
       "      <td>7.758163</td>\n",
       "      <td>-0.000076</td>\n",
       "      <td>-0.000068</td>\n",
       "      <td>-0.000069</td>\n",
       "    </tr>\n",
       "    <tr>\n",
       "      <th>96</th>\n",
       "      <td>7.838776</td>\n",
       "      <td>-0.000074</td>\n",
       "      <td>-0.000066</td>\n",
       "      <td>-0.000067</td>\n",
       "    </tr>\n",
       "    <tr>\n",
       "      <th>97</th>\n",
       "      <td>7.919388</td>\n",
       "      <td>-0.000072</td>\n",
       "      <td>-0.000064</td>\n",
       "      <td>-0.000065</td>\n",
       "    </tr>\n",
       "    <tr>\n",
       "      <th>98</th>\n",
       "      <td>8.000000</td>\n",
       "      <td>-0.000070</td>\n",
       "      <td>-0.000063</td>\n",
       "      <td>-0.000064</td>\n",
       "    </tr>\n",
       "  </tbody>\n",
       "</table>\n",
       "<p>99 rows × 4 columns</p>\n",
       "</div>"
      ],
      "text/plain": [
       "           x  sigma_xx  sigma_yy  sigma_zz\n",
       "0   0.100000 -0.253110 -0.219854 -0.127036\n",
       "1   0.180612 -0.253110 -0.219854 -0.127036\n",
       "2   0.261224 -0.253110 -0.219854 -0.127036\n",
       "3   0.341837 -0.253110 -0.219854 -0.127036\n",
       "4   0.422449 -0.253110 -0.219854 -0.127036\n",
       "..       ...       ...       ...       ...\n",
       "94  7.677551 -0.000079 -0.000070 -0.000071\n",
       "95  7.758163 -0.000076 -0.000068 -0.000069\n",
       "96  7.838776 -0.000074 -0.000066 -0.000067\n",
       "97  7.919388 -0.000072 -0.000064 -0.000065\n",
       "98  8.000000 -0.000070 -0.000063 -0.000064\n",
       "\n",
       "[99 rows x 4 columns]"
      ]
     },
     "execution_count": 15,
     "metadata": {},
     "output_type": "execute_result"
    }
   ],
   "source": [
    "df"
   ]
  },
  {
   "cell_type": "code",
   "execution_count": null,
   "metadata": {},
   "outputs": [],
   "source": [
    "# Save the results in a csv file\n",
    "df.to_csv(\"stress.csv\")"
   ]
  },
  {
   "cell_type": "code",
   "execution_count": null,
   "metadata": {},
   "outputs": [],
   "source": []
  }
 ],
 "metadata": {
  "kernelspec": {
   "display_name": "Python 3",
   "language": "python",
   "name": "python3"
  },
  "language_info": {
   "codemirror_mode": {
    "name": "ipython",
    "version": 3
   },
   "file_extension": ".py",
   "mimetype": "text/x-python",
   "name": "python",
   "nbconvert_exporter": "python",
   "pygments_lexer": "ipython3",
   "version": "3.10.6"
  },
  "orig_nbformat": 4
 },
 "nbformat": 4,
 "nbformat_minor": 2
}
